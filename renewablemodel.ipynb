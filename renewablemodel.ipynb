{
 "cells": [
  {
   "cell_type": "code",
   "execution_count": 19,
   "id": "5660c20d-2c5e-4aa9-ac95-8afd551bc3e5",
   "metadata": {},
   "outputs": [],
   "source": [
    "import pandas as pd\n",
    "import numpy as np\n",
    "import plotly.express as px\n",
    "from sklearn.model_selection import train_test_split\n",
    "from sklearn.ensemble import RandomForestRegressor\n",
    "from sklearn.metrics import mean_squared_error,r2_score\n",
    "from statsmodels.tsa.arima.model import ARIMA\n",
    "import matplotlib.pyplot as plt\n"
   ]
  },
  {
   "cell_type": "code",
   "execution_count": 5,
   "id": "2d1b7668-6890-43d7-9844-a486f47f5368",
   "metadata": {},
   "outputs": [
    {
     "name": "stdout",
     "output_type": "stream",
     "text": [
      "         source     NR     WR     SR     ER   NER  All India        date\n",
      "0         Hydro  139.0   43.0   72.0   30.0   7.0        292  2013-03-31\n",
      "1         Total  675.0  820.0  697.0  306.0  28.0       2526  2013-03-31\n",
      "2  Wind Gen(MU)    2.0   19.0   13.0    0.0   0.0         34  2013-03-31\n",
      "3         Hydro  137.0   43.0   83.0   32.0   5.0        300  2013-04-01\n",
      "4         Total  683.0  841.0  706.0  316.0  29.0       2575  2013-04-01\n",
      "<class 'pandas.core.frame.DataFrame'>\n",
      "RangeIndex: 18251 entries, 0 to 18250\n",
      "Data columns (total 8 columns):\n",
      " #   Column     Non-Null Count  Dtype  \n",
      "---  ------     --------------  -----  \n",
      " 0   source     18251 non-null  object \n",
      " 1   NR         18251 non-null  float64\n",
      " 2   WR         18251 non-null  float64\n",
      " 3   SR         18251 non-null  float64\n",
      " 4   ER         18251 non-null  float64\n",
      " 5   NER        18251 non-null  float64\n",
      " 6   All India  18251 non-null  int64  \n",
      " 7   date       18251 non-null  object \n",
      "dtypes: float64(5), int64(1), object(2)\n",
      "memory usage: 1.1+ MB\n",
      "None\n"
     ]
    }
   ],
   "source": [
    "# Load the dataset\n",
    "df = pd.read_csv('data/dailypowerrenewable.csv')  # Replace with your dataset path\n",
    "# Inspect the first few rows and basic info\n",
    "print(df.head())\n",
    "print(df.info())\n"
   ]
  },
  {
   "cell_type": "code",
   "execution_count": 6,
   "id": "cae0a596-6818-4b09-a2a4-4c94d872be1f",
   "metadata": {},
   "outputs": [
    {
     "name": "stdout",
     "output_type": "stream",
     "text": [
      "source       0\n",
      "NR           0\n",
      "WR           0\n",
      "SR           0\n",
      "ER           0\n",
      "NER          0\n",
      "All India    0\n",
      "date         0\n",
      "dtype: int64\n"
     ]
    }
   ],
   "source": [
    "# Check for null values\n",
    "print(df.isnull().sum())\n",
    "\n",
    "# Drop rows with null values (or fill them if needed)\n",
    "df.dropna(inplace=True)  # Change to fillna() to fill instead of drop\n",
    "\n",
    "# Fix the date column\n",
    "df['date'] = pd.to_datetime(df['date'], errors='coerce')  # Convert to datetime\n",
    "df.dropna(subset=['date'], inplace=True)  # Drop rows where date conversion failed\n"
   ]
  },
  {
   "cell_type": "code",
   "execution_count": 8,
   "id": "c776fc6f-27db-4559-ac94-3005f18f5ad8",
   "metadata": {},
   "outputs": [],
   "source": [
    "# Convert relevant columns to numeric\n",
    "columns_to_convert = ['NR', 'WR', 'SR', 'ER', 'NER', 'All India']\n",
    "df[columns_to_convert] = df[columns_to_convert].apply(pd.to_numeric, errors='coerce')\n",
    "\n",
    "# Create new features (year, month) if useful for your analysis\n",
    "df['year'] = df['date'].dt.year\n",
    "df['month'] = df['date'].dt.month\n"
   ]
  },
  {
   "cell_type": "code",
   "execution_count": 14,
   "id": "85017983-cf12-423a-bda9-3b422c9a7159",
   "metadata": {},
   "outputs": [
    {
     "data": {
      "text/html": [
       "<iframe\n",
       "    scrolling=\"no\"\n",
       "    width=\"100%\"\n",
       "    height=\"545px\"\n",
       "    src=\"iframe_figures/figure_14.html\"\n",
       "    frameborder=\"0\"\n",
       "    allowfullscreen\n",
       "></iframe>\n"
      ]
     },
     "metadata": {},
     "output_type": "display_data"
    }
   ],
   "source": [
    "# Step 7: Visualization of Historical Data\n",
    "import plotly.io as pio\n",
    "pio.renderers.default = 'notebook'\n",
    "pio.renderers.default = 'iframe'\n",
    "\n",
    "# Create a time series line plot of energy generation\n",
    "fig = px.line(df_grouped, x='date', y='All India', title='All India Renewable Energy Generation Over Time')\n",
    "\n",
    "# Show the figure\n",
    "fig.show()\n",
    "\n"
   ]
  },
  {
   "cell_type": "code",
   "execution_count": 16,
   "id": "2f15b5b1-fa30-408d-a92d-2f6585a2f5b1",
   "metadata": {},
   "outputs": [],
   "source": [
    "# Step 3: Prepare the features and target\n",
    "# Using all columns except 'date' as features\n",
    "X = df_grouped.drop(columns=['date', 'All India'])  # Drop 'date' and the target variable\n",
    "y = df_grouped['All India']  # Target variable\n",
    "\n",
    "# Split the data into training and testing sets\n",
    "X_train, X_test, y_train, y_test = train_test_split(X, y, test_size=0.2, random_state=42)\n"
   ]
  },
  {
   "cell_type": "code",
   "execution_count": 17,
   "id": "935bd00e-8d04-40e4-8e41-7d9608230eb3",
   "metadata": {},
   "outputs": [],
   "source": [
    "# Step 4: Train the Random Forest model\n",
    "model = RandomForestRegressor(n_estimators=100, random_state=42)\n",
    "model.fit(X_train, y_train)\n",
    "\n",
    "# Make predictions\n",
    "y_pred = model.predict(X_test)\n"
   ]
  },
  {
   "cell_type": "code",
   "execution_count": 20,
   "id": "03871baa-8e06-40cb-ad9c-c6a9e3669bad",
   "metadata": {},
   "outputs": [
    {
     "name": "stdout",
     "output_type": "stream",
     "text": [
      "Mean Squared Error: 3620.407266094421\n",
      "R^2 Score: 0.9993692793991901\n"
     ]
    }
   ],
   "source": [
    "# Step 5: Evaluate the model\n",
    "mse = mean_squared_error(y_test, y_pred)\n",
    "r2 = r2_score(y_test, y_pred)\n",
    "\n",
    "print(f'Mean Squared Error: {mse}')\n",
    "print(f'R^2 Score: {r2}')\n"
   ]
  },
  {
   "cell_type": "code",
   "execution_count": 21,
   "id": "ce674680-5f7f-42a9-8f3b-fc305066ea73",
   "metadata": {},
   "outputs": [
    {
     "name": "stdout",
     "output_type": "stream",
     "text": [
      "Future Predictions: [574.51]\n"
     ]
    }
   ],
   "source": [
    "# Example future input based on last known values\n",
    "# Create a DataFrame for future dates; here we assume we know the values for the features\n",
    "# Adjust this based on your actual feature set.\n",
    "future_input = pd.DataFrame({\n",
    "    'NR': [100],  # Replace with expected future values\n",
    "    'WR': [50],\n",
    "    'SR': [70],\n",
    "    'ER': [20],\n",
    "    'NER': [5],\n",
    "})\n",
    "\n",
    "# Make a prediction\n",
    "future_predictions = model.predict(future_input)\n",
    "\n",
    "print(f'Future Predictions: {future_predictions}')\n"
   ]
  },
  {
   "cell_type": "code",
   "execution_count": 24,
   "id": "cb35523a-2f81-426a-bc1e-0e4b160b0a64",
   "metadata": {},
   "outputs": [
    {
     "data": {
      "text/html": [
       "<iframe\n",
       "    scrolling=\"no\"\n",
       "    width=\"100%\"\n",
       "    height=\"545px\"\n",
       "    src=\"iframe_figures/figure_24.html\"\n",
       "    frameborder=\"0\"\n",
       "    allowfullscreen\n",
       "></iframe>\n"
      ]
     },
     "metadata": {},
     "output_type": "display_data"
    }
   ],
   "source": [
    "import plotly.graph_objects as go\n",
    "\n",
    "# Create a line chart using Plotly\n",
    "fig = go.Figure()\n",
    "\n",
    "# Add actual data points (if available)\n",
    "fig.add_trace(go.Scatter(\n",
    "    x=years_extended[:-2],  # Assuming past years\n",
    "    y=y_pred,  # Replace y_pred with actual historical data if available\n",
    "    mode='lines+markers',\n",
    "    name='Historical Data'\n",
    "))\n",
    "\n",
    "# Add predictions for future years\n",
    "fig.add_trace(go.Scatter(\n",
    "    x=years_extended[-2:],  # Only future years (2024, 2025)\n",
    "    y=future_predictions,  # Predicted values for future years\n",
    "    mode='lines+markers',\n",
    "    name='Predictions'\n",
    "))\n",
    "\n",
    "# Update layout\n",
    "fig.update_layout(\n",
    "    title='Renewable Energy Generation Predictions',\n",
    "    xaxis_title='Year',\n",
    "    yaxis_title='Energy Generation (All India)',\n",
    "    legend_title='Legend',\n",
    "    template='plotly',\n",
    "    showlegend=True\n",
    ")\n",
    "\n",
    "# Show the figure\n",
    "fig.show()\n"
   ]
  },
  {
   "cell_type": "code",
   "execution_count": 27,
   "id": "2811ad37-b39f-4474-9be5-a3244fe7339b",
   "metadata": {},
   "outputs": [
    {
     "data": {
      "text/html": [
       "\n",
       "        <iframe\n",
       "            width=\"100%\"\n",
       "            height=\"650\"\n",
       "            src=\"http://127.0.0.1:8050/\"\n",
       "            frameborder=\"0\"\n",
       "            allowfullscreen\n",
       "            \n",
       "        ></iframe>\n",
       "        "
      ],
      "text/plain": [
       "<IPython.lib.display.IFrame at 0x15c588470>"
      ]
     },
     "metadata": {},
     "output_type": "display_data"
    }
   ],
   "source": [
    "import pandas as pd\n",
    "import numpy as np\n",
    "import dash\n",
    "from dash import dcc, html\n",
    "from dash.dependencies import Input, Output\n",
    "import plotly.graph_objects as go\n",
    "from sklearn.linear_model import LinearRegression\n",
    "from sklearn.model_selection import train_test_split\n",
    "from sklearn.metrics import mean_squared_error, r2_score\n",
    "import warnings\n",
    "\n",
    "# Suppress warnings\n",
    "warnings.filterwarnings(\"ignore\")\n",
    "\n",
    "# Load your dataset\n",
    "data = pd.read_csv('data/dailypowerrenewable.csv')\n",
    "\n",
    "# Data cleaning\n",
    "data['date'] = pd.to_datetime(data['date'], errors='coerce')\n",
    "data.dropna(inplace=True)\n",
    "\n",
    "# Ensure that the 'All India' column is numeric\n",
    "data['All India'] = pd.to_numeric(data['All India'], errors='coerce')\n",
    "\n",
    "# Extract year from the date for analysis\n",
    "data['year'] = data['date'].dt.year\n",
    "\n",
    "# Aggregate data by year\n",
    "annual_data = data.groupby('year')['All India'].sum().reset_index()\n",
    "\n",
    "# Prepare features and target for prediction\n",
    "X = annual_data['year'].values.reshape(-1, 1)\n",
    "y = annual_data['All India'].values\n",
    "\n",
    "# Train-test split\n",
    "X_train, X_test, y_train, y_test = train_test_split(X, y, test_size=0.2, random_state=42)\n",
    "\n",
    "# Train the model\n",
    "model = LinearRegression()\n",
    "model.fit(X_train, y_train)\n",
    "\n",
    "# Make predictions\n",
    "predictions = model.predict(X)\n",
    "\n",
    "# Extend years for future predictions\n",
    "future_years = np.array([[2024], [2025]])\n",
    "future_predictions = model.predict(future_years)\n",
    "\n",
    "# Combine actual and predicted values for visualization\n",
    "years = np.append(X, future_years)\n",
    "all_values = np.append(y, future_predictions)\n",
    "\n",
    "# Initialize the Dash app\n",
    "app = dash.Dash(__name__)\n",
    "\n",
    "app.layout = html.Div([\n",
    "    html.H1(\"Renewable Energy Generation Predictions\"),\n",
    "    \n",
    "    dcc.Graph(id='prediction-graph'),\n",
    "\n",
    "    # Dropdown for selecting data type\n",
    "    dcc.Dropdown(\n",
    "        id='data-type',\n",
    "        options=[\n",
    "            {'label': 'Actual Values', 'value': 'actual'},\n",
    "            {'label': 'Predicted Values', 'value': 'predicted'}\n",
    "        ],\n",
    "        value='actual'\n",
    "    )\n",
    "])\n",
    "\n",
    "@app.callback(\n",
    "    Output('prediction-graph', 'figure'),\n",
    "    [Input('data-type', 'value')]\n",
    ")\n",
    "def update_graph(selected_data):\n",
    "    # Create the figure for the selected data\n",
    "    fig = go.Figure()\n",
    "\n",
    "    # Add actual values\n",
    "    fig.add_trace(go.Scatter(x=annual_data['year'], y=annual_data['All India'], mode='lines+markers', name='Actual Values'))\n",
    "\n",
    "    # Add predictions for future years\n",
    "    fig.add_trace(go.Scatter(x=[2024, 2025], y=future_predictions, mode='lines+markers', name='Predicted Values', line=dict(dash='dash')))\n",
    "\n",
    "    # Update layout\n",
    "    fig.update_layout(\n",
    "        title='Renewable Energy Generation Predictions',\n",
    "        xaxis_title='Year',\n",
    "        yaxis_title='Energy Generation (MU)',\n",
    "        template='plotly',\n",
    "        legend=dict(x=0, y=1)\n",
    "    )\n",
    "\n",
    "    return fig\n",
    "\n",
    "# Run the app\n",
    "if __name__ == '__main__':\n",
    "    app.run_server(debug=True)\n"
   ]
  },
  {
   "cell_type": "code",
   "execution_count": 26,
   "id": "60a7d8d6-a4ec-4db3-a6d6-42786d26fb6c",
   "metadata": {},
   "outputs": [
    {
     "name": "stderr",
     "output_type": "stream",
     "text": [
      "WARNING:bokeh.embed.util:\n",
      "You are generating standalone HTML/JS output, but trying to use real Python\n",
      "callbacks (i.e. with on_change or on_event). This combination cannot work.\n",
      "\n",
      "Only JavaScript callbacks may be used with standalone output. For more\n",
      "information on JavaScript callbacks with Bokeh, see:\n",
      "\n",
      "    https://docs.bokeh.org/en/latest/docs/user_guide/interaction/js_callbacks.html\n",
      "\n",
      "Alternatively, to use real Python callbacks, a Bokeh server application may\n",
      "be used. For more information on building and running Bokeh applications, see:\n",
      "\n",
      "    https://docs.bokeh.org/en/latest/docs/user_guide/server.html\n",
      "\n"
     ]
    }
   ],
   "source": [
    "from bokeh.plotting import figure, show\n",
    "from bokeh.models import ColumnDataSource, Select\n",
    "from bokeh.io import curdoc\n",
    "from bokeh.layouts import column\n",
    "\n",
    "# Sample data\n",
    "years = list(range(2013, 2026))\n",
    "actual_values = [292, 2526, 2558, 2551, 2586, 2600, 2620, 2650, 2680, 2700, 2750, 2800, 2850]\n",
    "future_predictions = [2900, 2950]\n",
    "\n",
    "# Create a ColumnDataSource\n",
    "source = ColumnDataSource(data=dict(years=years[:-2], values=actual_values[:-2]))\n",
    "\n",
    "# Create a figure\n",
    "p = figure(title=\"Renewable Energy Generation Predictions\", x_axis_label='Year', y_axis_label='Energy Generation (MU)')\n",
    "p.line('years', 'values', source=source, line_width=2, color='blue', legend_label='Actual Values')\n",
    "\n",
    "# Callback function to update the plot\n",
    "def update_plot(attr, old, new):\n",
    "    if new == 'Predicted':\n",
    "        source.data = dict(years=[2024, 2025], values=future_predictions)\n",
    "        p.title.text = \"Predicted Renewable Energy Generation\"\n",
    "    else:\n",
    "        source.data = dict(years=years[:-2], values=actual_values[:-2])\n",
    "        p.title.text = \"Actual Renewable Energy Generation\"\n",
    "\n",
    "# Dropdown menu for user selection\n",
    "select = Select(title=\"Select Data Type:\", value=\"Actual\", options=[\"Actual\", \"Predicted\"])\n",
    "select.on_change('value', update_plot)\n",
    "\n",
    "# Layout\n",
    "layout = column(select, p)\n",
    "\n",
    "# Add the layout to the current document\n",
    "curdoc().add_root(layout)\n",
    "\n",
    "# Show the plot\n",
    "show(layout)\n"
   ]
  }
 ],
 "metadata": {
  "kernelspec": {
   "display_name": "Python 3 (ipykernel)",
   "language": "python",
   "name": "python3"
  },
  "language_info": {
   "codemirror_mode": {
    "name": "ipython",
    "version": 3
   },
   "file_extension": ".py",
   "mimetype": "text/x-python",
   "name": "python",
   "nbconvert_exporter": "python",
   "pygments_lexer": "ipython3",
   "version": "3.12.0"
  }
 },
 "nbformat": 4,
 "nbformat_minor": 5
}
